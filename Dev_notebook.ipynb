{
 "metadata": {
  "name": "Dev_notebook"
 },
 "nbformat": 3,
 "nbformat_minor": 0,
 "worksheets": [
  {
   "cells": [
    {
     "cell_type": "markdown",
     "metadata": {},
     "source": [
      "# Quade Development Notebook\n",
      "\n",
      "## Creation : 2015 / 01 / 07\n",
      "\n",
      "### Adrien Leger [adrien.leger@gmail.com](adrien.leger@gmail.com)\n",
      "\n",
      "###\u00a0Purpose\n",
      "\n",
      "* Parse chunks of non demultiplexed paired end fastq files (R1 R2 and Index 1 [and Index 2])\n",
      "* Reads had to be attributed to the corresponding sample based on index correspondance\n",
      "* Reads may be filtered based on the PHRED quality of the index read \n",
      "* Finally the program had to handle stochastic molecular index that may be included in the index read\n",
      "\n",
      "###\u00a0Dependencies\n",
      "\n",
      "* Python 2.7+ (but not python3 due to Biopython incompatibility)\n",
      "* Biopython 1.65+\n"
     ]
    },
    {
     "cell_type": "code",
     "collapsed": false,
     "input": [
      "from Bio import SeqIO\n",
      "import gzip"
     ],
     "language": "python",
     "metadata": {},
     "outputs": [],
     "prompt_number": 4
    },
    {
     "cell_type": "markdown",
     "metadata": {},
     "source": [
      "You can use either uncompressed fastq"
     ]
    },
    {
     "cell_type": "code",
     "collapsed": false,
     "input": [
      "in_R1 = gzip.open(\"./test/C01_R1.fastq.gz\", \"r\")\n",
      "in_R2 = gzip.open(\"./test/C01_R2.fastq.gz\", \"r\")\n",
      "in_R3 = gzip.open(\"./test/C01_R3.fastq.gz\", \"r\")\n",
      "\n",
      "R1 = SeqIO.parse(in_R1, 'fastq-sanger')\n",
      "R2 = SeqIO.parse(in_R2, 'fastq-sanger')\n",
      "R3 = SeqIO.parse(in_R3, 'fastq-sanger')"
     ],
     "language": "python",
     "metadata": {},
     "outputs": [],
     "prompt_number": 5
    },
    {
     "cell_type": "code",
     "collapsed": false,
     "input": [
      "in_R1 = open(\"./test/C01_R1.fastq\", \"r\")\n",
      "in_R2 = open(\"./test/C01_R2.fastq\", \"r\")\n",
      "in_R3 = open(\"./test/C01_R3.fastq\", \"r\")\n",
      "\n",
      "R1 = SeqIO.parse(in_R1, 'fastq-sanger')\n",
      "R2 = SeqIO.parse(in_R2, 'fastq-sanger')\n",
      "R3 = SeqIO.parse(in_R3, 'fastq-sanger')"
     ],
     "language": "python",
     "metadata": {},
     "outputs": [],
     "prompt_number": 13
    },
    {
     "cell_type": "code",
     "collapsed": false,
     "input": [
      "print(next(R1, None))\n",
      "print(\"\")\n",
      "print(next(R2, None))\n",
      "print(\"\")\n",
      "print(next(R3, None))"
     ],
     "language": "python",
     "metadata": {},
     "outputs": [
      {
       "output_type": "stream",
       "stream": "stdout",
       "text": [
        "ID: HWI-1KL149:87:HA58EADXX:1:1101:1340:2180\n",
        "Name: HWI-1KL149:87:HA58EADXX:1:1101:1340:2180\n",
        "Description: HWI-1KL149:87:HA58EADXX:1:1101:1340:2180 1:N:0:\n",
        "Number of features: 0\n",
        "Per letter annotation for: phred_quality\n",
        "Seq('CTGCAACTTACCTCCGGGATGGTCCAGACCCACGTCACCACCCCCGGCTCCATA...GGA', SingleLetterAlphabet())\n",
        "\n",
        "ID: HWI-1KL149:87:HA58EADXX:1:1101:1340:2180\n",
        "Name: HWI-1KL149:87:HA58EADXX:1:1101:1340:2180\n",
        "Description: HWI-1KL149:87:HA58EADXX:1:1101:1340:2180 2:N:0:\n",
        "Number of features: 0\n",
        "Per letter annotation for: phred_quality\n",
        "Seq('GCCAAT', SingleLetterAlphabet())\n",
        "\n",
        "ID: HWI-1KL149:87:HA58EADXX:1:1101:1340:2180\n",
        "Name: HWI-1KL149:87:HA58EADXX:1:1101:1340:2180\n",
        "Description: HWI-1KL149:87:HA58EADXX:1:1101:1340:2180 3:N:0:\n",
        "Number of features: 0\n",
        "Per letter annotation for: phred_quality\n",
        "Seq('GGTCAAGGAAGGCACGGGGGAGGGGCAAACAACAGATGGCTGGCAACTAGAAGG...ATA', SingleLetterAlphabet())\n"
       ]
      }
     ],
     "prompt_number": 15
    },
    {
     "cell_type": "code",
     "collapsed": false,
     "input": [
      "while True:\n",
      "    read1 = next(R1, None)\n",
      "    read2 = next(R2, None)\n",
      "    read3 = next(R3, None)"
     ],
     "language": "python",
     "metadata": {},
     "outputs": [],
     "prompt_number": 12
    }
   ],
   "metadata": {}
  }
 ]
}