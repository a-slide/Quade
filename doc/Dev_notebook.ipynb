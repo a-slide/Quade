{
 "metadata": {
  "name": "Dev_notebook"
 },
 "nbformat": 3,
 "nbformat_minor": 0,
 "worksheets": [
  {
   "cells": [
    {
     "cell_type": "markdown",
     "metadata": {},
     "source": [
      "# Quade Development Notebook\n",
      "\n",
      "## Creation : 2015 / 01 / 07\n",
      "\n",
      "### Adrien Leger [adrien.leger@gmail.com](adrien.leger@gmail.com)\n",
      "\n",
      "###\u00a0Purpose\n",
      "\n",
      "* Parse chunks of non demultiplexed paired end fastq files (R1 R2 and Index 1 [and Index 2])\n",
      "* Reads had to be attributed to the corresponding sample based on index correspondance\n",
      "* Reads may be filtered based on the PHRED quality of the index read \n",
      "* Finally the program had to handle stochastic molecular index that may be included in the index read\n",
      "\n",
      "###\u00a0Dependencies\n",
      "\n",
      "* Python 2.7+ (but not python3 due to Biopython incompatibility)\n",
      "* Biopython 1.65+\n"
     ]
    },
    {
     "cell_type": "code",
     "collapsed": false,
     "input": [
      "from Bio import SeqIO\n",
      "import gzip"
     ],
     "language": "python",
     "metadata": {},
     "outputs": [],
     "prompt_number": 4
    },
    {
     "cell_type": "markdown",
     "metadata": {},
     "source": [
      "You can use either uncompressed fastq"
     ]
    },
    {
     "cell_type": "code",
     "collapsed": false,
     "input": [
      "in_R1 = gzip.open(\"./test/C01_R1.fastq.gz\", \"r\")\n",
      "in_R2 = gzip.open(\"./test/C01_R2.fastq.gz\", \"r\")\n",
      "in_R3 = gzip.open(\"./test/C01_R3.fastq.gz\", \"r\")\n",
      "\n",
      "R1 = SeqIO.parse(in_R1, 'fastq-sanger')\n",
      "R2 = SeqIO.parse(in_R2, 'fastq-sanger')\n",
      "R3 = SeqIO.parse(in_R3, 'fastq-sanger')"
     ],
     "language": "python",
     "metadata": {},
     "outputs": [],
     "prompt_number": 5
    },
    {
     "cell_type": "code",
     "collapsed": false,
     "input": [
      "in_R1 = open(\"./test/C01_R1.fastq\", \"r\")\n",
      "in_R2 = open(\"./test/C01_R2.fastq\", \"r\")\n",
      "in_R3 = open(\"./test/C01_R3.fastq\", \"r\")\n",
      "\n",
      "R1 = SeqIO.parse(in_R1, 'fastq-sanger')\n",
      "R2 = SeqIO.parse(in_R2, 'fastq-sanger')\n",
      "R3 = SeqIO.parse(in_R3, 'fastq-sanger')"
     ],
     "language": "python",
     "metadata": {},
     "outputs": [],
     "prompt_number": 13
    },
    {
     "cell_type": "code",
     "collapsed": false,
     "input": [
      "print(next(R1, None))\n",
      "print(\"\")\n",
      "print(next(R2, None))\n",
      "print(\"\")\n",
      "print(next(R3, None))"
     ],
     "language": "python",
     "metadata": {},
     "outputs": [
      {
       "output_type": "stream",
       "stream": "stdout",
       "text": [
        "ID: HWI-1KL149:87:HA58EADXX:1:1101:1340:2180\n",
        "Name: HWI-1KL149:87:HA58EADXX:1:1101:1340:2180\n",
        "Description: HWI-1KL149:87:HA58EADXX:1:1101:1340:2180 1:N:0:\n",
        "Number of features: 0\n",
        "Per letter annotation for: phred_quality\n",
        "Seq('CTGCAACTTACCTCCGGGATGGTCCAGACCCACGTCACCACCCCCGGCTCCATA...GGA', SingleLetterAlphabet())\n",
        "\n",
        "ID: HWI-1KL149:87:HA58EADXX:1:1101:1340:2180\n",
        "Name: HWI-1KL149:87:HA58EADXX:1:1101:1340:2180\n",
        "Description: HWI-1KL149:87:HA58EADXX:1:1101:1340:2180 2:N:0:\n",
        "Number of features: 0\n",
        "Per letter annotation for: phred_quality\n",
        "Seq('GCCAAT', SingleLetterAlphabet())\n",
        "\n",
        "ID: HWI-1KL149:87:HA58EADXX:1:1101:1340:2180\n",
        "Name: HWI-1KL149:87:HA58EADXX:1:1101:1340:2180\n",
        "Description: HWI-1KL149:87:HA58EADXX:1:1101:1340:2180 3:N:0:\n",
        "Number of features: 0\n",
        "Per letter annotation for: phred_quality\n",
        "Seq('GGTCAAGGAAGGCACGGGGGAGGGGCAAACAACAGATGGCTGGCAACTAGAAGG...ATA', SingleLetterAlphabet())\n"
       ]
      }
     ],
     "prompt_number": 15
    },
    {
     "cell_type": "code",
     "collapsed": false,
     "input": [
      "while True:\n",
      "    read1 = next(R1, None)\n",
      "    read2 = next(R2, None)\n",
      "    read3 = next(R3, None)"
     ],
     "language": "python",
     "metadata": {},
     "outputs": [],
     "prompt_number": 12
    },
    {
     "cell_type": "markdown",
     "metadata": {},
     "source": [
      "HTSeq is a new parser for many NGS format that can read directly fastq.gz. Let's try it"
     ]
    },
    {
     "cell_type": "code",
     "collapsed": false,
     "input": [
      "import HTSeq"
     ],
     "language": "python",
     "metadata": {},
     "outputs": [],
     "prompt_number": 1
    },
    {
     "cell_type": "code",
     "collapsed": false,
     "input": [
      "R1_list = ['./test/C01_R1.fastq.gz', './test/C02_R1.fastq.gz']\n",
      "R2_list = ['./test/C01_R2.fastq.gz', './test/C02_R2.fastq.gz']\n",
      "R3_list = ['./test/C01_R3.fastq.gz', './test/C02_R3.fastq.gz']\n",
      "R4_list = ['./test/C01_R2.fastq.gz', './test/C02_R2.fastq.gz']"
     ],
     "language": "python",
     "metadata": {},
     "outputs": [],
     "prompt_number": 3
    },
    {
     "cell_type": "code",
     "collapsed": false,
     "input": [
      "chunk=1\n",
      "for R1,R2,R3 in zip(R1_list, R2_list, R3_list):\n",
      "    print (chunk)\n",
      "    R1_gen = HTSeq.FastqReader(R1, qual_scale=\"phred\")\n",
      "    R2_gen = HTSeq.FastqReader(R2, qual_scale=\"phred\")\n",
      "    R3_gen = HTSeq.FastqReader(R3, qual_scale=\"phred\")\n",
      "    R4_gen = HTSeq.FastqReader(R3, qual_scale=\"phred\")\n",
      "    i =0\n",
      "    for r1,r2,r3,r4 in zip (R1_gen, R2_gen, R3_gen, R4_gen):\n",
      "        print (r1.name+\"\\n\"+r2.name+\"\\n\"+r3.name+\"\\n\"+r4.name+\"\\n\\n\")\n",
      "        i+=1\n",
      "        if i > 2:\n",
      "            break\n",
      "    chunk+=1        "
     ],
     "language": "python",
     "metadata": {},
     "outputs": [
      {
       "output_type": "stream",
       "stream": "stdout",
       "text": [
        "1\n",
        "HWI-1KL149:87:HA58EADXX:1:1101:1198:2144 1:N:0:\n",
        "HWI-1KL149:87:HA58EADXX:1:1101:1198:2144 2:N:0:\n",
        "HWI-1KL149:87:HA58EADXX:1:1101:1198:2144 3:N:0:\n",
        "HWI-1KL149:87:HA58EADXX:1:1101:1198:2144 3:N:0:\n",
        "\n",
        "\n",
        "HWI-1KL149:87:HA58EADXX:1:1101:1245:2172 1:N:0:\n",
        "HWI-1KL149:87:HA58EADXX:1:1101:1245:2172 2:N:0:\n",
        "HWI-1KL149:87:HA58EADXX:1:1101:1245:2172 3:N:0:\n",
        "HWI-1KL149:87:HA58EADXX:1:1101:1245:2172 3:N:0:\n",
        "\n",
        "\n",
        "HWI-1KL149:87:HA58EADXX:1:1101:1146:2181 1:N:0:\n",
        "HWI-1KL149:87:HA58EADXX:1:1101:1146:2181 2:N:0:\n",
        "HWI-1KL149:87:HA58EADXX:1:1101:1146:2181 3:N:0:\n",
        "HWI-1KL149:87:HA58EADXX:1:1101:1146:2181 3:N:0:\n",
        "\n",
        "\n",
        "2\n",
        "HWI-1KL149:87:HA58EADXX:1:1101:19514:2119 1:N:0:\n",
        "HWI-1KL149:87:HA58EADXX:1:1101:19514:2119 2:N:0:\n",
        "HWI-1KL149:87:HA58EADXX:1:1101:19514:2119 3:N:0:\n",
        "HWI-1KL149:87:HA58EADXX:1:1101:19514:2119 3:N:0:\n",
        "\n"
       ]
      },
      {
       "output_type": "stream",
       "stream": "stdout",
       "text": [
        "\n",
        "HWI-1KL149:87:HA58EADXX:1:1101:19552:2120 1:N:0:\n",
        "HWI-1KL149:87:HA58EADXX:1:1101:19552:2120 2:N:0:\n",
        "HWI-1KL149:87:HA58EADXX:1:1101:19552:2120 3:N:0:\n",
        "HWI-1KL149:87:HA58EADXX:1:1101:19552:2120 3:N:0:\n",
        "\n",
        "\n",
        "HWI-1KL149:87:HA58EADXX:1:1101:19686:2123 1:N:0:\n",
        "HWI-1KL149:87:HA58EADXX:1:1101:19686:2123 2:N:0:\n",
        "HWI-1KL149:87:HA58EADXX:1:1101:19686:2123 3:N:0:\n",
        "HWI-1KL149:87:HA58EADXX:1:1101:19686:2123 3:N:0:\n",
        "\n",
        "\n"
       ]
      }
     ],
     "prompt_number": 10
    },
    {
     "cell_type": "code",
     "collapsed": false,
     "input": [],
     "language": "python",
     "metadata": {},
     "outputs": []
    }
   ],
   "metadata": {}
  }
 ]
}